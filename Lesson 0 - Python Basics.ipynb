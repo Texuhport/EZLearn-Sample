{
 "cells": [
  {
   "cell_type": "markdown",
   "id": "444c7506-28bf-4547-9a96-086b82c0074e",
   "metadata": {
    "tags": []
   },
   "source": [
    "# Welcome to EZLEARN's PYTHON Trainer\n",
    "\n",
    "Python is a versatile and powerful programming language that is widely used for various applications, including web development, data analysis, artificial intelligence, machine learning, and more. It was created by Guido van Rossum and first released in 1991.\n",
    "\n"
   ]
  },
  {
   "cell_type": "markdown",
   "id": "aca42444-8ef4-4c80-a24b-b3bd5c3d41a0",
   "metadata": {
    "tags": []
   },
   "source": [
    "# Python Syntax \n",
    "### Let's get started\n",
    "\n",
    "In this course, we're making learning Python fun and personalized just for you! Instead of using boring examples, we'll use things like your age, country, job, and more to create cool programs. But don't worry about typing all that out every time—let's introduce you to the magic of **variables**.\n",
    "\n",
    "**Variables** are like nicknames for important details (like your age, country, and job) so that Python can remember them easily. Think of it as a shortcut! **Fill in the blank variables below with your info, and let's get ready to roll!**"
   ]
  },
  {
   "cell_type": "code",
   "execution_count": 1,
   "id": "0c2d5d18-5031-4336-b45f-71802a70aed8",
   "metadata": {
    "tags": []
   },
   "outputs": [],
   "source": [
    "#Create a variable called user_email that stores your email. \n",
    "user_email = \"test@tester.com\" #You'll have to put the email in \"quotation marks\" so that Python understands that your email is a 'string' (a collection of letters, numbers and other characters). When Python notices a string it will color it red\n",
    "\n",
    "\n",
    "#Create a variable called user_name that stores your name.\n",
    "user_name= \"John Doe\" #You'll have to put the name in \"quotation marks\" so that Python understands that your name is a 'string' (a collection of letters, numbers and other characters). When Python notices a string it will color it red\n",
    "\n",
    "\n",
    "#Create a variable called user_age that stores your age\n",
    "user_age = 27 #Python loves numbers! You can just write the number down for this variable and Python will recognize it's a number and make it glow green\n",
    "\n",
    "\n",
    "#Create a variable called user_country that stores your country\n",
    "user_country = \"Canada\" #You'll have to put the country in \"quotation marks\" so that Python understands that your country is a 'string' (a collection of letters, numbers and other characters). When Python notices a string it will color it red\n",
    "\n",
    "\n",
    "#Create a variable called user_job that stores your current profession\n",
    "user_job = \"Student\" #You'll have to put the job in \"quotation marks\" so that Python understands that your job is a 'string' (a collection of letters, numbers and other characters). When Python notices a string it will color it red\n",
    "\n",
    "\n",
    "#Create a variable called user_NewDev that stores a boolean value (True or False) on whether you're new to developing or not\n",
    "user_NewDev = True #Boolean values (True or False) always have the first letter capitalised and will glow in a green color on most Python notebooks\n",
    "\n",
    "\n",
    "#Create a variable called user_LuckyNumberGenerator and fill it with a math formula that will make a lucky number for you. You can use a multitude of math operations such as: +, -, /, *, ^, !,(,), and more\n",
    "user_LuckyNumberGenerator = 3+5^2-(13*85)^7^8*13\n",
    "\n",
    "\n",
    "#Once you're done, hit Ctrl+Enter to 'run' this Python cell. That tells Python you're all done writing and you want it to do what you've said\n"
   ]
  },
  {
   "cell_type": "markdown",
   "id": "51ee8a15-e060-41cb-86ba-bf8b822b9ff5",
   "metadata": {},
   "source": [
    "## Great job! You've made your first variables now let's test them out. \n",
    "\n",
    "### Introducing the 'Print' function\n",
    "\n",
    "When you tell Python to **Print** something. It takes whatever you want to show, like words, numbers, or even a variable, and displays it on the screen. *Let's test it out*\n",
    "\n",
    "We call this one a classic, because every Python Dev Class starts off with it. **Print 'Hello World' using the Print command below**"
   ]
  },
  {
   "cell_type": "code",
   "execution_count": 2,
   "id": "69c57990-2051-4556-901a-d5886f499fb2",
   "metadata": {
    "tags": []
   },
   "outputs": [
    {
     "name": "stdout",
     "output_type": "stream",
     "text": [
      "INSERT MESSAGE HERE\n"
     ]
    }
   ],
   "source": [
    "print(\"INSERT MESSAGE HERE\") #Python is case-sensitive so you have type 'print' not 'Print'"
   ]
  },
  {
   "cell_type": "markdown",
   "id": "7e9f71eb-70f8-4880-af84-a6850777c48b",
   "metadata": {},
   "source": [
    "## Hello and good job!\n",
    "\n",
    "Let's do some more printing practice. **Print the variables you stored above to make sure the info is correct**"
   ]
  },
  {
   "cell_type": "code",
   "execution_count": 3,
   "id": "96c2507f-89b8-4156-9e88-da4b0e39d147",
   "metadata": {
    "tags": []
   },
   "outputs": [
    {
     "name": "stdout",
     "output_type": "stream",
     "text": [
      "John Doe\n",
      "test@tester.com\n",
      "-1066 True\n",
      "27 | Canada | Student\n"
     ]
    }
   ],
   "source": [
    "print(user_name)\n",
    "print(user_email)\n",
    "print(user_LuckyNumberGenerator, user_NewDev) #Commas can be used to tell python to print one item next to the other\n",
    "print(user_age,\"|\", user_country,\"|\", user_job) "
   ]
  },
  {
   "cell_type": "code",
   "execution_count": 4,
   "id": "85f39fa8-3c4f-44dc-b3c4-61e34a3ffa6e",
   "metadata": {
    "tags": []
   },
   "outputs": [
    {
     "name": "stdin",
     "output_type": "stream",
     "text": [
      "Write 'True' if the values above are correct, and 'False' otherwise True\n"
     ]
    }
   ],
   "source": [
    "#Create a new Variable called CorrectInfo that holds an input function. This input function means Python will ask you to manually input an answer before moving forward. It's a great way to make a password on your python code or ask users for info\n",
    "CorrectInfo=input(\"Write 'True' if the values above are correct, and 'False' otherwise\")"
   ]
  },
  {
   "cell_type": "markdown",
   "id": "a2c74c22-1a3e-449a-a22f-de8052ff8fc6",
   "metadata": {},
   "source": [
    "### We trust you, we do but we've sent you a verification to that email to make sure you're not using someone else's. Type the verification code we sent you and unlock the next level of learning"
   ]
  },
  {
   "cell_type": "code",
   "execution_count": 5,
   "id": "4ee9ace1-9531-40ab-baf2-764ec5d7a366",
   "metadata": {
    "tags": []
   },
   "outputs": [
    {
     "name": "stdin",
     "output_type": "stream",
     "text": [
      "Type the verification code we sent to your email hf788sjdfc\n"
     ]
    }
   ],
   "source": [
    "EmailVerification= input(\"Type the verification code we sent to your email\")"
   ]
  },
  {
   "cell_type": "code",
   "execution_count": 6,
   "id": "a7f79f89-0f48-4436-9d5a-615fb4d62b1b",
   "metadata": {
    "jupyter": {
     "source_hidden": true
    },
    "scrolled": true
   },
   "outputs": [
    {
     "name": "stdin",
     "output_type": "stream",
     "text": [
      "Type New Password: Musician4life\n"
     ]
    }
   ],
   "source": [
    "#Set a Password so we can save your progress. Make it something only you will know!\n",
    "user_password = input(\"Type New Password:\")"
   ]
  },
  {
   "cell_type": "markdown",
   "id": "f70d9205-b10f-4fad-b869-d4667f023180",
   "metadata": {
    "tags": []
   },
   "source": [
    "## Awesome! Let's do some more stuff with those variables now\n",
    "\n",
    "### Let's do some work with **comparison operations** and **\"if statements\"**. \n",
    "**Comparison operations** are how Python determines if two values are equal (==) or not equal (!=), they also determine if one value is greater or less than the other (>,<).\n",
    "\n",
    "**\"if statements\"** are a function that allow us to tell Python how to make decisions based on our preferred conditions. We basically say **if** my conditions are met, do **what i tell you to do**\n",
    "\n",
    "For instance, if you're under 16, let's kick in the **FunMode**—because you're here to get good at coding not do your taxes. So let's make an **if statement** that says **if your age is under 16 then FunMode = true**"
   ]
  },
  {
   "cell_type": "code",
   "execution_count": 7,
   "id": "5eabc752-6d59-4595-8584-6fcec18661c5",
   "metadata": {
    "tags": []
   },
   "outputs": [
    {
     "name": "stdout",
     "output_type": "stream",
     "text": [
      "Congrats old timer. Let's make ye employable\n"
     ]
    }
   ],
   "source": [
    "if user_age < 16:\n",
    "    FunMode = True\n",
    "    print(\"Welcome young traveler. Let's code!\")\n",
    "else:\n",
    "    FunMode = False\n",
    "    print(\"Congrats old timer. Let's make ye employable\")\n",
    "    "
   ]
  },
  {
   "cell_type": "markdown",
   "id": "c7eea0e7-cd50-4d2f-9a41-2fdfccb502d5",
   "metadata": {
    "tags": []
   },
   "source": [
    "## Let's make another if statement to make Python express fun mode~ or no fun mode "
   ]
  },
  {
   "cell_type": "code",
   "execution_count": 8,
   "id": "c6d6c9b9-ef7b-4d75-af04-a8eff9209df4",
   "metadata": {
    "tags": []
   },
   "outputs": [
    {
     "name": "stdout",
     "output_type": "stream",
     "text": [
      "ヘ( ^o^)ノ＼(^_^ ) ADULT MODE ACTIVATED ヘ( ^o^)ノ＼(^_^ ) \n",
      " \n",
      " we'll still have fun!\n"
     ]
    }
   ],
   "source": [
    "if FunMode == True:\n",
    "    print (\"*\\O/*\",\"<(￣︶￣)>\", \"FUN MODE ACTIVATED\", \"<(￣︶￣)>\",\"*\\O/*\", \"\\n\",\"\\n\", \"let's learn more Python\") #Commas can be used to tell python to print one item next to the other\n",
    "else:\n",
    "    print(\"ヘ( ^o^)ノ＼(^_^ )\", #You can have code for one function on different lines as long as they're all indented exactly the same\n",
    "          \"ADULT MODE ACTIVATED\", \n",
    "          \"ヘ( ^o^)ノ＼(^_^ )\", \n",
    "          \"\\n\",\n",
    "          \"\\n\",\n",
    "          \"we'll still have fun!\")"
   ]
  },
  {
   "cell_type": "markdown",
   "id": "9b0241d6-c452-42f9-af0f-9a4c55b63002",
   "metadata": {
    "tags": []
   },
   "source": [
    "# Basic Calculations\n",
    "\n",
    "Now that you're getting the hang of Python, let's do some basic Python calculations using your user_age variable."
   ]
  },
  {
   "cell_type": "markdown",
   "id": "9631307d-d77a-44c9-9583-5ba59443a004",
   "metadata": {
    "tags": []
   },
   "source": [
    "### We told you we trust you before right? Because we do. But let's verify your age for funsies and educational purposes.\n",
    "The best way to Verify your age is using your birthday, but to do that we need Python to take a set of **numbers** and turn them into **dates**. \n",
    "\n",
    "Python doesn't love dates the way it loves numbers but it can learn to like them by installing a **Python library** called **datetime**. \n",
    "\n",
    "**Python libraries** are packages available to python that allow it to do more things than it can do on its own"
   ]
  },
  {
   "cell_type": "code",
   "execution_count": 7,
   "id": "7a09932c-33b0-400f-b10d-054104a743b8",
   "metadata": {
    "tags": []
   },
   "outputs": [
    {
     "name": "stdout",
     "output_type": "stream",
     "text": [
      "Requirement already satisfied: datetime in f:\\demidev\\applications\\anacondainstall\\envs\\demidev\\lib\\site-packages (5.4)\n",
      "Requirement already satisfied: zope.interface in f:\\demidev\\applications\\anacondainstall\\envs\\demidev\\lib\\site-packages (from datetime) (6.2)\n",
      "Requirement already satisfied: pytz in f:\\demidev\\applications\\anacondainstall\\envs\\demidev\\lib\\site-packages (from datetime) (2023.3.post1)\n",
      "Requirement already satisfied: setuptools in f:\\demidev\\applications\\anacondainstall\\envs\\demidev\\lib\\site-packages (from zope.interface->datetime) (69.0.3)\n"
     ]
    }
   ],
   "source": [
    "#Use the pip install command to tell Python to download the datetime package over the internet and install it on this notebook\n",
    "!pip install datetime\n",
    "\n",
    "#From the datetime library let's import the datetime module so we can use it\n",
    "from datetime import datetime"
   ]
  },
  {
   "cell_type": "markdown",
   "id": "f9a75894-b8a6-4ccc-8122-75fdaf2d11f7",
   "metadata": {},
   "source": [
    "### Now that datetime is imported, let's use it to save your birthday. \n",
    "\n",
    "**Make three variables for year, month and day and then use the datetime command to make them a single date**"
   ]
  },
  {
   "cell_type": "code",
   "execution_count": 8,
   "id": "3053fc15-c63c-45b9-a8ec-f3711b9e1042",
   "metadata": {
    "tags": []
   },
   "outputs": [],
   "source": [
    "yyyy = 1996\n",
    "mm = 6\n",
    "dd = 25\n",
    "\n",
    "user_birthday = datetime(yyyy, mm, dd)"
   ]
  },
  {
   "cell_type": "markdown",
   "id": "15cac308-6be6-4a18-bddd-8a9469cebdce",
   "metadata": {
    "tags": []
   },
   "source": [
    "## Remember how to Print? Print your Birthday!"
   ]
  },
  {
   "cell_type": "code",
   "execution_count": 10,
   "id": "5dea6bea-0e2e-4fae-8f65-707fdb48f1b1",
   "metadata": {
    "tags": []
   },
   "outputs": [
    {
     "name": "stdout",
     "output_type": "stream",
     "text": [
      "*\\O/* *\\O/*\n"
     ]
    }
   ],
   "source": [
    "print(\"*\\O/*\", \"*\\O/*\")"
   ]
  },
  {
   "cell_type": "markdown",
   "id": "cb82fc87-ddbf-46af-868b-f03f4687017f",
   "metadata": {
    "tags": []
   },
   "source": [
    "## Good work! \n",
    "\n",
    "**But there's a problem!** Since we told Python to save the number in datetime it automatically saved the time as \"00:00:00\". \n",
    "\n",
    "We're not going to be using your birth time so let's get rid of that by formating our datetime.\n",
    "\n",
    "We're going to write a command below to tell Python to **save only the date.** We can use the **user_birthday** variable to overwrite the old one since we no longer need it. If we wanted to save both the old version and the new version we'd give the new version a different name. Set your user_birthday variable as just the 'Date' version of your birthday using 'user_birthday.date()'. Then **print your birthday** again"
   ]
  },
  {
   "cell_type": "code",
   "execution_count": 11,
   "id": "cdb3d134-ba91-4a08-859f-e9bb73df28b2",
   "metadata": {
    "tags": []
   },
   "outputs": [
    {
     "name": "stdout",
     "output_type": "stream",
     "text": [
      "*\\O/* 1996-06-25 *\\O/*\n"
     ]
    }
   ],
   "source": [
    "user_birthday = user_birthday.date()\n",
    "print(\"*\\O/*\",\"*\\O/*\")"
   ]
  },
  {
   "cell_type": "markdown",
   "id": "05b3b2ed-f6eb-45f5-833d-c789edd13da5",
   "metadata": {
    "tags": []
   },
   "source": [
    "Great now let's use that birthday to verify your age. The logic is pretty simple\n",
    "\n",
    "If your age is equal to today's date minus your birthday, then you gave us the right age and the right birthday."
   ]
  },
  {
   "cell_type": "code",
   "execution_count": 12,
   "id": "5fd4d745-6b43-414f-bfd9-a19d15e15445",
   "metadata": {
    "tags": []
   },
   "outputs": [
    {
     "name": "stdout",
     "output_type": "stream",
     "text": [
      "Thanks for being honest :)\n"
     ]
    }
   ],
   "source": [
    "#Get today's date from Python as a date with no time\n",
    "today = datetime.today().date()\n",
    "\n",
    "#Get the difference in days between today and your birthday then divide it by 365.25 to account for leap years\n",
    "yearssalive = (today - user_birthday).days//365.25 #We use double slashes // to tell python to round our answer down since you probably didn't give your age in decimals. If you did...you can use one slash as long as you remembered to take your meds today. \n",
    "\n",
    "#Create an \"if\" statement that checks if your age is the same as the years alive calculation\n",
    "if user_age == yearssalive:\n",
    "    print (\"Thanks for being honest :)\")\n",
    "elif user_age > yearssalive:\n",
    "    print (\"Trying to look older eh? Not gonna work against Python\")\n",
    "elif user_age < yearssalive:\n",
    "    print (\"Trying to look younger eh? Grow up!\")\n",
    "else:\n",
    "    print(\"HOW DID YOU BREAK MATH?!?!?!\")"
   ]
  },
  {
   "cell_type": "markdown",
   "id": "d61a2c42-b8e5-4d17-b8fe-43f7ccf3f9a6",
   "metadata": {},
   "source": [
    "Next, let's make sure your user_age variable updates every year when you get older.\n",
    "\n",
    "We're going to **overwrite the user_age value with the yearssalive calculation** because it used your birthday and the current day no matter what day it is."
   ]
  },
  {
   "cell_type": "code",
   "execution_count": 14,
   "id": "42208121-a63a-40a5-970a-135812cf57c7",
   "metadata": {
    "tags": []
   },
   "outputs": [],
   "source": [
    "user_age = yearssalive"
   ]
  },
  {
   "cell_type": "markdown",
   "id": "9b1ad506-9089-4ec0-b56f-09fc6c48b1cd",
   "metadata": {
    "tags": []
   },
   "source": [
    "### Since we're saving your birthday now, how about we wish you a happy birthday every year?\n",
    "\n",
    "Remember when we made the variable for 'today' earlier? We told python that 'today' is datetime.today().date(). Let's use that variable again to make an **if statement** that says if today is your birthday then Python should run the SECRET_BIRTHDAY_COMMAND that we have saved just for you"
   ]
  },
  {
   "cell_type": "code",
   "execution_count": 15,
   "id": "19813b46-c8ae-4ecf-b3fc-cf9b1269ef57",
   "metadata": {
    "tags": []
   },
   "outputs": [],
   "source": [
    "if today.day == user_birthday.day and today.month == user_birthday.month:\n",
    "    SECRET_BIRTHDAY_COMMAND"
   ]
  },
  {
   "cell_type": "markdown",
   "id": "2ba9153f-3e03-40fc-b2c9-be48f50530f6",
   "metadata": {
    "tags": []
   },
   "source": [
    "## Perfect. We've now verified your age and set a birthday message\n",
    "\n",
    "Let's use it to do some more calculations"
   ]
  },
  {
   "cell_type": "markdown",
   "id": "d58c4315-eb59-4220-aebb-ac289b044e6c",
   "metadata": {
    "tags": []
   },
   "source": [
    "First, let's make a new variable called **AgeofProphecy** and make it your age * 1.1\n",
    "\n",
    "**Then print the answer**"
   ]
  },
  {
   "cell_type": "code",
   "execution_count": 16,
   "id": "168c4079-1eb0-47b9-8d91-b1e4dae51534",
   "metadata": {
    "tags": []
   },
   "outputs": [
    {
     "name": "stdout",
     "output_type": "stream",
     "text": [
      "I'll probably be a Python Professional by the time I'm 29\n"
     ]
    }
   ],
   "source": [
    "AgeofProphecy = int(user_age * 1.1)\n",
    "print(f\"I'll probably be a Python Professional by the time I'm {AgeofProphecy}\")"
   ]
  },
  {
   "cell_type": "markdown",
   "id": "fa9a7d69-411c-4a15-b88f-fb8a4d78d80f",
   "metadata": {
    "tags": []
   },
   "source": [
    "### Next, let's do some work with boolean values\n",
    "\n",
    "If you remember, boolean values are True or False values. There are many ways to use them but we're going to use them below to set some privacy permissions!"
   ]
  },
  {
   "cell_type": "code",
   "execution_count": 17,
   "id": "b6d6aa9a-745a-4b98-ac54-ca2bfb560833",
   "metadata": {
    "tags": []
   },
   "outputs": [],
   "source": [
    "#We automatically take permission to save your email so we can create your user profile. If you change let_email to 'False' we'll DELETE YOUR ACCOUNT and you'll have to start your lessons again\n",
    "let_email = True\n",
    "\n",
    "#We save your name so we know how to address you\n",
    "let_name = True\n",
    "\n",
    "#We save your Lucky Number so that if we ever need to randomly select something, we can make things fair and use the numbers everybody picked plus a special formula. If you set this at false, we'll assume your number is 1 and you'll share odds with any other non-compliers\n",
    "let_random = True\n",
    "\n",
    "#We save your NewDev Status so we know if we can skip the beginner stuff\n",
    "let_dev = True\n",
    "\n",
    "#We save your age so we can find out how to help people learn the most efficiently for their age\n",
    "let_age = True\n",
    "\n",
    "#We save your birthday so we can wish you happy birthday!\n",
    "let_birthday = True\n",
    "\n",
    "#We'd like to save your AgeofProphecy so we can help you meet that goal!\n",
    "let_AgeofProphecy = True\n",
    "\n",
    "#We'd like to save your country to get a better idea of how you're doind compared to other people who live in your country. It also lets us show that data to you\n",
    "let_country = True\n",
    "\n",
    "#We'd like to save your job so we know if certain professions learn better in different ways\n",
    "let_job = True"
   ]
  },
  {
   "cell_type": "markdown",
   "id": "e4cd5501-8888-4eec-824f-7cce7dfac883",
   "metadata": {
    "tags": []
   },
   "source": [
    "## You're doing such a great job!\n",
    "\n",
    "Let's keep moving now. Next we're going to set your learning goals!\n",
    "\n",
    "Not everybody uses Python in the same ways so let's find out what you're interested in\n",
    "\n",
    "**Answer the following questions True or False to personalize your learning experience**"
   ]
  },
  {
   "cell_type": "code",
   "execution_count": 18,
   "id": "e1ab7aa9-7949-4982-939b-ea53a86dc3ba",
   "metadata": {
    "tags": []
   },
   "outputs": [
    {
     "name": "stdin",
     "output_type": "stream",
     "text": [
      "Goal 1 True or False: True\n",
      "Goal 2 True or False: True\n",
      "Goal 3 True or False: True\n",
      "Goal 4 True or False: True\n",
      "Goal 5 True or False: True\n",
      "Goal 6 True or False: True\n",
      "Goal 7 True or False: True\n"
     ]
    }
   ],
   "source": [
    "# You want to learn how to make Python do math for you\n",
    "goal1 = input('Goal 1 True or False:')\n",
    "\n",
    "# You want to learn to use Python to store information\n",
    "goal2 = input('Goal 2 True or False:')\n",
    "\n",
    "# You want to learn to use Python to explore spreadsheets easily\n",
    "goal3 = input('Goal 3 True or False:')\n",
    "\n",
    "# You want to learn to use Python to predict the future based on data\n",
    "goal4 = input('Goal 4 True or False:')\n",
    "\n",
    "# You want to learn to train Python on completing complex tasks like solving puzzles\n",
    "goal5 = input('Goal 5 True or False:')\n",
    "\n",
    "# You want to train Python to interact with users in a natural language like english\n",
    "goal6 = input('Goal 6 True or False:')\n",
    "\n",
    "# You want to train Python to interact with users in a coding language like Python or C#\n",
    "goal7 = input('Goal 7 True or False:')"
   ]
  },
  {
   "cell_type": "markdown",
   "id": "519754f8-9a9c-47dc-b6bb-020c0c05aab7",
   "metadata": {
    "tags": []
   },
   "source": [
    "## Great now let's set a learning style for you\n",
    "\n",
    "Your learning style defines the pace, focus and detail of your modules.\n",
    "\n",
    "### **Answer the following questions to personalize your learning experience**"
   ]
  },
  {
   "cell_type": "code",
   "execution_count": 19,
   "id": "5188f0bb-6da4-4b28-924b-ab234a11d6c2",
   "metadata": {
    "tags": []
   },
   "outputs": [],
   "source": [
    "#If you'd like to earn a specific job through your new Python skills enter it below. \n",
    "user_ideal_job = \"\" #Remember that we need it as a string so we're going to put it in \"quotation marks\"\n",
    "\n",
    "\n",
    "#If you'd like to earn a specific salary through your new Python skills enter it below.\n",
    "user_ideal_salary = 0 #This is going to be a number so need to put it in quotes"
   ]
  },
  {
   "cell_type": "code",
   "execution_count": 20,
   "id": "84f16e04-cd36-4897-8d14-ea9ee9a628b1",
   "metadata": {
    "tags": []
   },
   "outputs": [
    {
     "name": "stdin",
     "output_type": "stream",
     "text": [
      "full-time, part-time or casually: full-time\n",
      "nudge or coddle nudge\n",
      "quitter or masochist quitter\n"
     ]
    }
   ],
   "source": [
    "#Do you want to learn Python full-time, part-time or casually\n",
    "user_pyth_commit =input('full-time, part-time or casually:')\n",
    "\n",
    "\n",
    "#How much guidance do you want when you're correting your mistakes. Should we nudge you in the right direction or coddle you and give you the answer\n",
    "user_aimassist =input('nudge or coddle')\n",
    "\n",
    "\n",
    "#When encountering a challenging concept, do you prefer to quit and come back to it or continue to persevere?\n",
    "user_stamina = input('quitter or masochist')"
   ]
  },
  {
   "cell_type": "markdown",
   "id": "0b080945-ab63-4b2f-854d-adf6aad0d53a",
   "metadata": {
    "tags": []
   },
   "source": [
    "### Great job. To answer the next question, you're going to need to make a **list** \n",
    "\n",
    "A **list** is one of the ways Python stores data. It allows you to store a collection of **values** under a single **variable**. We can make lists by putting items in square brackets [ ] and separating items using a comma ,\n",
    "\n",
    "Make a new **variable** below called user_languages and make the value a **list** of all the natural and coding languages you speak"
   ]
  },
  {
   "cell_type": "code",
   "execution_count": 21,
   "id": "db76961f-1135-48f3-9afc-7ad67ee7b76c",
   "metadata": {
    "tags": []
   },
   "outputs": [],
   "source": [
    "# Write a list of the languages you speak. They can be natural languages like English or coding languages like javascript\n",
    "user_languages = ['English', 'Body Language',]"
   ]
  },
  {
   "cell_type": "markdown",
   "id": "d2b97e1d-fa06-470d-af8e-699c4d0fc045",
   "metadata": {
    "tags": []
   },
   "source": [
    "### Next make a list of the types of technology you would like to build. Save it under the variable user_interests\n",
    "\n",
    "#### Some examples include:\n",
    "\n",
    "\n",
    "* Data Management\n",
    "* Artifical Intelligence (AI)\n",
    "* Financial Technology (FinTech)\n",
    "* Medical Technology (MedTech)\n",
    "* Educational Technology (EdTech)\n",
    "* Agricultural Technology (AgTech)\n",
    "* SpaceTech\n",
    "* CreatorTech\n",
    "* Social Tech\n",
    "* Eco tech\n",
    "* Blockchain\n",
    "* Cybersecurity\n",
    "* Renewable Energy Technology"
   ]
  },
  {
   "cell_type": "code",
   "execution_count": 22,
   "id": "3c6524b1-3938-4f9d-b5f2-4930ab117584",
   "metadata": {
    "tags": []
   },
   "outputs": [],
   "source": [
    "user_interests = [] #Remember to save each type of technology as a \"string\" and separate different items by comma (,)"
   ]
  },
  {
   "cell_type": "code",
   "execution_count": 23,
   "id": "f0a98782-add2-48e5-bd87-fce1a94101b6",
   "metadata": {
    "collapsed": true,
    "jupyter": {
     "outputs_hidden": true,
     "source_hidden": true
    },
    "tags": []
   },
   "outputs": [
    {
     "name": "stdout",
     "output_type": "stream",
     "text": [
      "Stored 'user_name' (str)\n",
      "Stored 'user_age' (float)\n",
      "Stored 'user_birthday' (date)\n",
      "Stored 'AgeofProphecy' (int)\n",
      "Stored 'user_country' (str)\n",
      "Stored 'user_email' (str)\n",
      "Stored 'user_job' (str)\n",
      "Stored 'user_ideal_job' (str)\n",
      "Stored 'user_ideal_salary' (int)\n",
      "Stored 'user_pyth_commit' (str)\n",
      "Stored 'user_aimassist' (str)\n",
      "Stored 'user_stamina' (str)\n",
      "Stored 'user_languages' (list)\n",
      "Stored 'user_interests' (list)\n",
      "Stored 'user_LuckyNumberGenerator' (int)\n",
      "Stored 'user_NewDev' (bool)\n",
      "Stored 'CorrectInfo' (str)\n",
      "Stored 'FunMode' (bool)\n",
      "Stored 'goal1' (str)\n",
      "Stored 'goal2' (str)\n",
      "Stored 'goal3' (str)\n",
      "Stored 'goal4' (str)\n",
      "Stored 'goal5' (str)\n",
      "Stored 'goal6' (str)\n",
      "Stored 'goal7' (str)\n",
      "Stored 'let_email' (bool)\n",
      "Stored 'let_name' (bool)\n",
      "Stored 'let_random' (bool)\n",
      "Stored 'let_dev' (bool)\n",
      "Stored 'let_age' (bool)\n",
      "Stored 'let_birthday' (bool)\n",
      "Stored 'let_AgeofProphecy' (bool)\n",
      "Stored 'let_country' (bool)\n",
      "Stored 'let_job' (bool)\n"
     ]
    }
   ],
   "source": [
    "# ---------------------------------- ----------------------------------SAVING YOUR VARIABLES--------------------------------------------------------------------\n",
    "\n",
    "%store user_name\n",
    "%store user_age\n",
    "%store user_birthday\n",
    "%store AgeofProphecy\n",
    "%store user_country\n",
    "%store user_email\n",
    "%store user_job\n",
    "%store user_ideal_job\n",
    "%store user_ideal_salary\n",
    "%store user_pyth_commit\n",
    "%store user_aimassist\n",
    "%store user_stamina\n",
    "%store user_languages\n",
    "%store user_interests\n",
    "%store user_LuckyNumberGenerator\n",
    "%store user_NewDev\n",
    "%store CorrectInfo\n",
    "%store FunMode\n",
    "%store goal1\n",
    "%store goal2\n",
    "%store goal3\n",
    "%store goal4\n",
    "%store goal5\n",
    "%store goal6\n",
    "%store goal7\n",
    "%store let_email\n",
    "%store let_name\n",
    "%store let_random\n",
    "%store let_dev\n",
    "%store let_age\n",
    "%store let_birthday\n",
    "%store let_AgeofProphecy\n",
    "%store let_country\n",
    "%store let_job"
   ]
  },
  {
   "cell_type": "markdown",
   "id": "1de0434b-62cd-473b-acc9-40d62a461475",
   "metadata": {
    "tags": []
   },
   "source": [
    "#  We've done a lot of Python together! Hope you're feeling more confident in your Python skills!"
   ]
  },
  {
   "cell_type": "markdown",
   "id": "567127d7-b53c-46b6-9789-381c1d5aeebb",
   "metadata": {
    "tags": []
   },
   "source": [
    "### It'll be hard to remember everything we've done if we don't store it all in one place. Welcome to the world of **Dictionaries** and **DataFrames**!"
   ]
  },
  {
   "cell_type": "markdown",
   "id": "f679f307-c543-47a4-80b4-3d4c7ec9c35b",
   "metadata": {
    "tags": []
   },
   "source": [
    "**Dictionaries** are a method of storing data that's related to each other. For instance if you had a group of friends and you wanted to store how many pushups each of you could do; you'd create a **dictionary** that pairs each person's name with their pushup count that way the info always stays together.\n",
    "\n",
    "We create **Dictionaries** by putting items in {curly brackets} and putting a **list** of values inside"
   ]
  },
  {
   "cell_type": "markdown",
   "id": "3c17e2ee-69f5-4fe0-8f23-18481859fcda",
   "metadata": {
    "tags": []
   },
   "source": [
    "**Dictionaries** work great with **DataFrames**. Notice that the 'F' in **DataFrame** is capitalized. If there was an award for the number 1 typo beginner python devs make again and again, **DataFrames** could certainly earn top spot. \n",
    "\n",
    "A **DataFrame** is basically a table, similar to a spreadsheet. It holds data in two dimensions meaning it has rows and columns that hold different values. It's perfect for us to store a **value** and also give it a **label** which is why they work so well with **Dictionaries**\n",
    "\n",
    "In order to create a **DataFrame** you have to install the **pandas** library. Pandas is the absolute best data analysis library for Python and it allows Python to store, analyze and manipulate data. You can install it in the same way we installed **datetime** earlier"
   ]
  },
  {
   "cell_type": "code",
   "execution_count": 24,
   "id": "bee6cbf8-b8e3-4937-b248-02161539dca3",
   "metadata": {
    "scrolled": true,
    "tags": []
   },
   "outputs": [
    {
     "name": "stdout",
     "output_type": "stream",
     "text": [
      "Requirement already satisfied: pandas in f:\\demidev\\applications\\anacondainstall\\envs\\demidev\\lib\\site-packages (2.1.4)\n",
      "Requirement already satisfied: numpy<2,>=1.23.2 in f:\\demidev\\applications\\anacondainstall\\envs\\demidev\\lib\\site-packages (from pandas) (1.26.3)\n",
      "Requirement already satisfied: python-dateutil>=2.8.2 in f:\\demidev\\applications\\anacondainstall\\envs\\demidev\\lib\\site-packages (from pandas) (2.8.2)\n",
      "Requirement already satisfied: pytz>=2020.1 in f:\\demidev\\applications\\anacondainstall\\envs\\demidev\\lib\\site-packages (from pandas) (2023.3.post1)\n",
      "Requirement already satisfied: tzdata>=2022.1 in f:\\demidev\\applications\\anacondainstall\\envs\\demidev\\lib\\site-packages (from pandas) (2023.3)\n",
      "Requirement already satisfied: six>=1.5 in f:\\demidev\\applications\\anacondainstall\\envs\\demidev\\lib\\site-packages (from python-dateutil>=2.8.2->pandas) (1.16.0)\n"
     ]
    }
   ],
   "source": [
    "#Use the pip install command to tell Python to download the pandas package over the internet and install it on this notebook\n",
    "!pip install pandas\n",
    "\n",
    "\n",
    "import pandas as pd"
   ]
  },
  {
   "cell_type": "markdown",
   "id": "92625d10-b545-44eb-b4c5-9c75f0733f95",
   "metadata": {
    "tags": []
   },
   "source": [
    "## Great! Now we have Pandas meaning we can store all our new **variables** in a **Dictionary** to prepare them for our **DataFrame**\n",
    "\n",
    "#### Create a new variable named user_data_dictionary and generate a new **Dictionary** that stores a Label and a Value for all of our **Variables** "
   ]
  },
  {
   "cell_type": "markdown",
   "id": "0a75db3b-147f-49c6-ae49-77c122cf5ae0",
   "metadata": {},
   "source": [
    "### Print your new dictionary to see how Python has stored all this information"
   ]
  },
  {
   "cell_type": "code",
   "execution_count": 25,
   "id": "eb33c3d9-eb0e-4f5b-9d17-5cbb8beb8b0e",
   "metadata": {
    "tags": []
   },
   "outputs": [],
   "source": [
    "#Start by making an empty dictionary using two curly brackets with nothing in the middle {}\n",
    "user_data_dictionary = {}\n",
    "\n",
    "#Now let's fill that dictionary with our user variables\n",
    "user_data_dictionary = {\n",
    "    'Name' : user_name, #We're going to put each pair on it's own line but all of these could be on a single line as long as they're separated by commas\n",
    "    'Age' : user_age,\n",
    "    'Birthday' : user_birthday,\n",
    "    'Age of Prophecy' : AgeofProphecy,\n",
    "    'Country' : user_country,\n",
    "    'Email' : user_email,\n",
    "    'Occupaion' : user_job,\n",
    "    'Ideal Job' : user_ideal_job,\n",
    "    'Ideal Salary': user_ideal_salary,\n",
    "    'Commitment' : user_pyth_commit,\n",
    "    'Learning Assistance': user_aimassist,\n",
    "    'Stamina Type': user_stamina,\n",
    "    'Languages': user_languages,\n",
    "    'Interests' : user_interests,\n",
    "    'Lucky Number' : user_LuckyNumberGenerator,\n",
    "    'NewDev Status' : user_NewDev,\n",
    "    'Information Confirmed' : CorrectInfo,\n",
    "    'Fun Mode' : FunMode,\n",
    "    'Goal 1' : goal1, \n",
    "    'Goal 2' : goal2, \n",
    "    'Goal 3' : goal3, \n",
    "    'Goal 4' : goal4, \n",
    "    'Goal 5' : goal5, \n",
    "    'Goal 6' : goal6, \n",
    "    'Goal 7' : goal7, \n",
    "    'Email Permissions' : let_email,\n",
    "    'Name Permissions' : let_name,\n",
    "    'Lucky Number Permissions' : let_random,\n",
    "    'New Dev Permissions' : let_dev,\n",
    "    'Age Permissions' : let_age, \n",
    "    'Birthday Permissions' : let_birthday,\n",
    "    'AgeofProphecy Permissions' : let_AgeofProphecy,\n",
    "    'Country Permissions' : let_country,\n",
    "    'Occupation Permissions' : let_job\n",
    "} #This is our closing curly bracket to close the dictionary\n",
    "    "
   ]
  },
  {
   "cell_type": "code",
   "execution_count": 26,
   "id": "a17b90bb-53d9-40c1-b50c-eb25215b491c",
   "metadata": {
    "tags": []
   },
   "outputs": [
    {
     "name": "stdout",
     "output_type": "stream",
     "text": [
      "{'Name': 'John Doe', 'Age': 27.0, 'Birthday': datetime.date(1996, 6, 25), 'Age of Prophecy': 29, 'Country': 'Canada', 'Email': 'test@tester.com', 'Occupaion': 'Student', 'Ideal Job': '', 'Ideal Salary': 0, 'Commitment': 'full-time', 'Learning Assistance': 'nudge', 'Stamina Type': 'quitter', 'Languages': ['English', 'Body Language'], 'Interests': [], 'Lucky Number': -1066, 'NewDev Status': True, 'Information Confirmed': 'True', 'Fun Mode': False, 'Goal 1': 'True', 'Goal 2': 'True', 'Goal 3': 'True', 'Goal 4': 'True', 'Goal 5': 'True', 'Goal 6': 'True', 'Goal 7': 'True', 'Email Permissions': True, 'Name Permissions': True, 'Lucky Number Permissions': True, 'New Dev Permissions': True, 'Age Permissions': True, 'Birthday Permissions': True, 'AgeofProphecy Permissions': True, 'Country Permissions': True, 'Occupation Permissions': True}\n"
     ]
    }
   ],
   "source": [
    "#Print your new dictionary to see how Python has stored all this information\n",
    "print(user_data_dictionary)"
   ]
  },
  {
   "cell_type": "markdown",
   "id": "d9b3bf42-47be-4f5f-a1ba-c70d69dd801b",
   "metadata": {},
   "source": [
    "### All the information is correct but it's still hard to understand when it's listed like that. Looks like it's time for our DataFrame\n",
    "\n",
    "#### Since Python can already use the dictionary to determine which information is for which label the next part is very easy.\n",
    "\n",
    "We use pandas (which we imported earlier and saved under the command 'pd') to create a **DataFrame** and fill it with the **items** from our **dictionary**. While we're making the **DataFrame**, we also want to tell it what each of the values are so it can put a name on top of the **columns**. For our column names let's make one for all the Labels called 'Label' and another for all the Values called 'Value'\n"
   ]
  },
  {
   "cell_type": "code",
   "execution_count": 27,
   "id": "9e4b0ba4-901f-4038-9b34-6c750ca1b5f9",
   "metadata": {
    "tags": []
   },
   "outputs": [
    {
     "data": {
      "text/html": [
       "<div>\n",
       "<style scoped>\n",
       "    .dataframe tbody tr th:only-of-type {\n",
       "        vertical-align: middle;\n",
       "    }\n",
       "\n",
       "    .dataframe tbody tr th {\n",
       "        vertical-align: top;\n",
       "    }\n",
       "\n",
       "    .dataframe thead th {\n",
       "        text-align: right;\n",
       "    }\n",
       "</style>\n",
       "<table border=\"1\" class=\"dataframe\">\n",
       "  <thead>\n",
       "    <tr style=\"text-align: right;\">\n",
       "      <th></th>\n",
       "      <th>Label</th>\n",
       "      <th>Value</th>\n",
       "    </tr>\n",
       "  </thead>\n",
       "  <tbody>\n",
       "    <tr>\n",
       "      <th>0</th>\n",
       "      <td>Name</td>\n",
       "      <td>John Doe</td>\n",
       "    </tr>\n",
       "    <tr>\n",
       "      <th>1</th>\n",
       "      <td>Age</td>\n",
       "      <td>27.0</td>\n",
       "    </tr>\n",
       "    <tr>\n",
       "      <th>2</th>\n",
       "      <td>Birthday</td>\n",
       "      <td>1996-06-25</td>\n",
       "    </tr>\n",
       "    <tr>\n",
       "      <th>3</th>\n",
       "      <td>Age of Prophecy</td>\n",
       "      <td>29</td>\n",
       "    </tr>\n",
       "    <tr>\n",
       "      <th>4</th>\n",
       "      <td>Country</td>\n",
       "      <td>Canada</td>\n",
       "    </tr>\n",
       "    <tr>\n",
       "      <th>5</th>\n",
       "      <td>Email</td>\n",
       "      <td>test@tester.com</td>\n",
       "    </tr>\n",
       "    <tr>\n",
       "      <th>6</th>\n",
       "      <td>Occupaion</td>\n",
       "      <td>Student</td>\n",
       "    </tr>\n",
       "    <tr>\n",
       "      <th>7</th>\n",
       "      <td>Ideal Job</td>\n",
       "      <td></td>\n",
       "    </tr>\n",
       "    <tr>\n",
       "      <th>8</th>\n",
       "      <td>Ideal Salary</td>\n",
       "      <td>0</td>\n",
       "    </tr>\n",
       "    <tr>\n",
       "      <th>9</th>\n",
       "      <td>Commitment</td>\n",
       "      <td>full-time</td>\n",
       "    </tr>\n",
       "  </tbody>\n",
       "</table>\n",
       "</div>"
      ],
      "text/plain": [
       "             Label            Value\n",
       "0             Name         John Doe\n",
       "1              Age             27.0\n",
       "2         Birthday       1996-06-25\n",
       "3  Age of Prophecy               29\n",
       "4          Country           Canada\n",
       "5            Email  test@tester.com\n",
       "6        Occupaion          Student\n",
       "7        Ideal Job                 \n",
       "8     Ideal Salary                0\n",
       "9       Commitment        full-time"
      ]
     },
     "execution_count": 27,
     "metadata": {},
     "output_type": "execute_result"
    }
   ],
   "source": [
    "#Create your new DataFrame using pandas. Turn the items from your dictionary into a readable list for Python called a Tuple and label the columns\n",
    "user_data = pd.DataFrame(list(user_data_dictionary.items()), columns=['Label', 'Value']) #Remember that you don't have to memorize this, just try to understand what we're telling Python to do. We want it to make a new Pandas DataFrame which is a table, and save the values you've input so far such as your age, Name and Country. We also want to put the matching label into the Table. \n",
    "\n",
    "#Use the .head method to see only the first 10 rows of your DataFrame. You can use .tail to see the bottom 10\n",
    "user_data.head(10)"
   ]
  },
  {
   "cell_type": "markdown",
   "id": "041f795c-67ca-4b90-bd26-7380183cf845",
   "metadata": {
    "tags": []
   },
   "source": [
    "### Looking good! Like a real Dev.\n",
    "\n",
    "Now let's make it look better. Right now your DataFrame has a standard index. Python always starts counting from 0 not from 1 so the first row is indexed as Row 0 and it can hold as many Rows as your computer can handle so quite a lot. \n",
    "\n",
    "We don't need our index to be numbers, especially in this case so we're going to tell Python to make one of our columns the index. Below, use the set_index command to tell Python to make the 'Label' column your index. "
   ]
  },
  {
   "cell_type": "code",
   "execution_count": 28,
   "id": "96b20627-620c-447d-809a-203682a33c59",
   "metadata": {
    "tags": []
   },
   "outputs": [
    {
     "data": {
      "text/html": [
       "<div>\n",
       "<style scoped>\n",
       "    .dataframe tbody tr th:only-of-type {\n",
       "        vertical-align: middle;\n",
       "    }\n",
       "\n",
       "    .dataframe tbody tr th {\n",
       "        vertical-align: top;\n",
       "    }\n",
       "\n",
       "    .dataframe thead th {\n",
       "        text-align: right;\n",
       "    }\n",
       "</style>\n",
       "<table border=\"1\" class=\"dataframe\">\n",
       "  <thead>\n",
       "    <tr style=\"text-align: right;\">\n",
       "      <th></th>\n",
       "      <th>Value</th>\n",
       "    </tr>\n",
       "    <tr>\n",
       "      <th>Label</th>\n",
       "      <th></th>\n",
       "    </tr>\n",
       "  </thead>\n",
       "  <tbody>\n",
       "    <tr>\n",
       "      <th>Name</th>\n",
       "      <td>John Doe</td>\n",
       "    </tr>\n",
       "    <tr>\n",
       "      <th>Age</th>\n",
       "      <td>27.0</td>\n",
       "    </tr>\n",
       "    <tr>\n",
       "      <th>Birthday</th>\n",
       "      <td>1996-06-25</td>\n",
       "    </tr>\n",
       "    <tr>\n",
       "      <th>Age of Prophecy</th>\n",
       "      <td>29</td>\n",
       "    </tr>\n",
       "    <tr>\n",
       "      <th>Country</th>\n",
       "      <td>Canada</td>\n",
       "    </tr>\n",
       "    <tr>\n",
       "      <th>Email</th>\n",
       "      <td>test@tester.com</td>\n",
       "    </tr>\n",
       "    <tr>\n",
       "      <th>Occupaion</th>\n",
       "      <td>Student</td>\n",
       "    </tr>\n",
       "    <tr>\n",
       "      <th>Ideal Job</th>\n",
       "      <td></td>\n",
       "    </tr>\n",
       "    <tr>\n",
       "      <th>Ideal Salary</th>\n",
       "      <td>0</td>\n",
       "    </tr>\n",
       "    <tr>\n",
       "      <th>Commitment</th>\n",
       "      <td>full-time</td>\n",
       "    </tr>\n",
       "    <tr>\n",
       "      <th>Learning Assistance</th>\n",
       "      <td>nudge</td>\n",
       "    </tr>\n",
       "    <tr>\n",
       "      <th>Stamina Type</th>\n",
       "      <td>quitter</td>\n",
       "    </tr>\n",
       "    <tr>\n",
       "      <th>Languages</th>\n",
       "      <td>[English, Body Language]</td>\n",
       "    </tr>\n",
       "    <tr>\n",
       "      <th>Interests</th>\n",
       "      <td>[]</td>\n",
       "    </tr>\n",
       "    <tr>\n",
       "      <th>Lucky Number</th>\n",
       "      <td>-1066</td>\n",
       "    </tr>\n",
       "    <tr>\n",
       "      <th>NewDev Status</th>\n",
       "      <td>True</td>\n",
       "    </tr>\n",
       "    <tr>\n",
       "      <th>Information Confirmed</th>\n",
       "      <td>True</td>\n",
       "    </tr>\n",
       "    <tr>\n",
       "      <th>Fun Mode</th>\n",
       "      <td>False</td>\n",
       "    </tr>\n",
       "    <tr>\n",
       "      <th>Goal 1</th>\n",
       "      <td>True</td>\n",
       "    </tr>\n",
       "    <tr>\n",
       "      <th>Goal 2</th>\n",
       "      <td>True</td>\n",
       "    </tr>\n",
       "    <tr>\n",
       "      <th>Goal 3</th>\n",
       "      <td>True</td>\n",
       "    </tr>\n",
       "    <tr>\n",
       "      <th>Goal 4</th>\n",
       "      <td>True</td>\n",
       "    </tr>\n",
       "    <tr>\n",
       "      <th>Goal 5</th>\n",
       "      <td>True</td>\n",
       "    </tr>\n",
       "    <tr>\n",
       "      <th>Goal 6</th>\n",
       "      <td>True</td>\n",
       "    </tr>\n",
       "    <tr>\n",
       "      <th>Goal 7</th>\n",
       "      <td>True</td>\n",
       "    </tr>\n",
       "    <tr>\n",
       "      <th>Email Permissions</th>\n",
       "      <td>True</td>\n",
       "    </tr>\n",
       "    <tr>\n",
       "      <th>Name Permissions</th>\n",
       "      <td>True</td>\n",
       "    </tr>\n",
       "    <tr>\n",
       "      <th>Lucky Number Permissions</th>\n",
       "      <td>True</td>\n",
       "    </tr>\n",
       "    <tr>\n",
       "      <th>New Dev Permissions</th>\n",
       "      <td>True</td>\n",
       "    </tr>\n",
       "    <tr>\n",
       "      <th>Age Permissions</th>\n",
       "      <td>True</td>\n",
       "    </tr>\n",
       "    <tr>\n",
       "      <th>Birthday Permissions</th>\n",
       "      <td>True</td>\n",
       "    </tr>\n",
       "    <tr>\n",
       "      <th>AgeofProphecy Permissions</th>\n",
       "      <td>True</td>\n",
       "    </tr>\n",
       "    <tr>\n",
       "      <th>Country Permissions</th>\n",
       "      <td>True</td>\n",
       "    </tr>\n",
       "    <tr>\n",
       "      <th>Occupation Permissions</th>\n",
       "      <td>True</td>\n",
       "    </tr>\n",
       "  </tbody>\n",
       "</table>\n",
       "</div>"
      ],
      "text/plain": [
       "                                              Value\n",
       "Label                                              \n",
       "Name                                       John Doe\n",
       "Age                                            27.0\n",
       "Birthday                                 1996-06-25\n",
       "Age of Prophecy                                  29\n",
       "Country                                      Canada\n",
       "Email                               test@tester.com\n",
       "Occupaion                                   Student\n",
       "Ideal Job                                          \n",
       "Ideal Salary                                      0\n",
       "Commitment                                full-time\n",
       "Learning Assistance                           nudge\n",
       "Stamina Type                                quitter\n",
       "Languages                  [English, Body Language]\n",
       "Interests                                        []\n",
       "Lucky Number                                  -1066\n",
       "NewDev Status                                  True\n",
       "Information Confirmed                          True\n",
       "Fun Mode                                      False\n",
       "Goal 1                                         True\n",
       "Goal 2                                         True\n",
       "Goal 3                                         True\n",
       "Goal 4                                         True\n",
       "Goal 5                                         True\n",
       "Goal 6                                         True\n",
       "Goal 7                                         True\n",
       "Email Permissions                              True\n",
       "Name Permissions                               True\n",
       "Lucky Number Permissions                       True\n",
       "New Dev Permissions                            True\n",
       "Age Permissions                                True\n",
       "Birthday Permissions                           True\n",
       "AgeofProphecy Permissions                      True\n",
       "Country Permissions                            True\n",
       "Occupation Permissions                         True"
      ]
     },
     "execution_count": 28,
     "metadata": {},
     "output_type": "execute_result"
    }
   ],
   "source": [
    "#Overwrite the old variable and set the index as the 'Label' column\n",
    "user_data = user_data.set_index('Label')\n",
    "\n",
    "#Print your DataFrame and crosscheck all the data\n",
    "user_data"
   ]
  },
  {
   "cell_type": "markdown",
   "id": "da9d060e-0c87-43d1-89c2-23bb2bbd0603",
   "metadata": {
    "tags": []
   },
   "source": [
    "### Now let's use that DataFrame data but first let's get rid of the stuff we won't be using\n",
    "\n",
    "Let's make a new **DataFrame** called user_df and store a smaller version of our **DataFrame** that only includes the info we want. We're going to use the .loc method. Think about .loc as a Table of Contents finder that can help you pull values out of a **DataFrame** based on the Labels in its index"
   ]
  },
  {
   "cell_type": "code",
   "execution_count": 29,
   "id": "54ca4220-3c18-4ddc-bdae-baea229ac1ad",
   "metadata": {
    "tags": []
   },
   "outputs": [
    {
     "data": {
      "text/html": [
       "<div>\n",
       "<style scoped>\n",
       "    .dataframe tbody tr th:only-of-type {\n",
       "        vertical-align: middle;\n",
       "    }\n",
       "\n",
       "    .dataframe tbody tr th {\n",
       "        vertical-align: top;\n",
       "    }\n",
       "\n",
       "    .dataframe thead th {\n",
       "        text-align: right;\n",
       "    }\n",
       "</style>\n",
       "<table border=\"1\" class=\"dataframe\">\n",
       "  <thead>\n",
       "    <tr style=\"text-align: right;\">\n",
       "      <th></th>\n",
       "      <th>Value</th>\n",
       "    </tr>\n",
       "    <tr>\n",
       "      <th>Label</th>\n",
       "      <th></th>\n",
       "    </tr>\n",
       "  </thead>\n",
       "  <tbody>\n",
       "    <tr>\n",
       "      <th>Name</th>\n",
       "      <td>John Doe</td>\n",
       "    </tr>\n",
       "    <tr>\n",
       "      <th>Age</th>\n",
       "      <td>27.0</td>\n",
       "    </tr>\n",
       "    <tr>\n",
       "      <th>Birthday</th>\n",
       "      <td>1996-06-25</td>\n",
       "    </tr>\n",
       "    <tr>\n",
       "      <th>Age of Prophecy</th>\n",
       "      <td>29</td>\n",
       "    </tr>\n",
       "    <tr>\n",
       "      <th>Country</th>\n",
       "      <td>Canada</td>\n",
       "    </tr>\n",
       "    <tr>\n",
       "      <th>Ideal Salary</th>\n",
       "      <td>0</td>\n",
       "    </tr>\n",
       "    <tr>\n",
       "      <th>Lucky Number</th>\n",
       "      <td>-1066</td>\n",
       "    </tr>\n",
       "  </tbody>\n",
       "</table>\n",
       "</div>"
      ],
      "text/plain": [
       "                      Value\n",
       "Label                      \n",
       "Name               John Doe\n",
       "Age                    27.0\n",
       "Birthday         1996-06-25\n",
       "Age of Prophecy          29\n",
       "Country              Canada\n",
       "Ideal Salary              0\n",
       "Lucky Number          -1066"
      ]
     },
     "execution_count": 29,
     "metadata": {},
     "output_type": "execute_result"
    }
   ],
   "source": [
    "user_df = user_data.loc[['Name', 'Age', 'Birthday', 'Age of Prophecy', 'Country', 'Ideal Salary', 'Lucky Number']] #We use double square brackets because the .loc method accepts its values in square brackets but the value we're inserting is a list of things so we put that in square brackets as well\n",
    "\n",
    "#Print the DataFrame\n",
    "user_df"
   ]
  },
  {
   "cell_type": "markdown",
   "id": "e30a6c99-f22b-448a-90e6-ea78164d9c42",
   "metadata": {},
   "source": [
    "# We've come to the end of our Pilot Module. Take a look at all the work you've done!\n",
    "\n",
    "### Next we're going to take a deeper look into some of the Python concepts like Dataframes, lists, dictionaries, pandas, datetime and lots more!"
   ]
  },
  {
   "cell_type": "code",
   "execution_count": 31,
   "id": "3c5ba5d9-991a-46a3-a7cb-73bf8abf001f",
   "metadata": {
    "tags": []
   },
   "outputs": [
    {
     "name": "stdout",
     "output_type": "stream",
     "text": [
      "Stored 'user_df' (DataFrame)\n",
      "Stored 'user_data' (DataFrame)\n",
      "Stored 'user_data_dictionary' (dict)\n"
     ]
    }
   ],
   "source": [
    "%store user_df\n",
    "%store user_data\n",
    "%store user_data_dictionary"
   ]
  }
 ],
 "metadata": {
  "kernelspec": {
   "display_name": "Python 3 (ipykernel)",
   "language": "python",
   "name": "python3"
  },
  "language_info": {
   "codemirror_mode": {
    "name": "ipython",
    "version": 3
   },
   "file_extension": ".py",
   "mimetype": "text/x-python",
   "name": "python",
   "nbconvert_exporter": "python",
   "pygments_lexer": "ipython3",
   "version": "3.11.5"
  }
 },
 "nbformat": 4,
 "nbformat_minor": 5
}
