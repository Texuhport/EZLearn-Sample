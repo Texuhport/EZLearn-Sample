{
 "cells": [
  {
   "cell_type": "code",
   "execution_count": 1,
   "id": "f94d62b3-594c-47ee-ab72-eb37f37e8a86",
   "metadata": {
    "tags": []
   },
   "outputs": [],
   "source": [
    "#Remembering your data from the Pilot Module\n",
    "%store -r user_df\n",
    "%store -r user_data\n",
    "%store -r user_data_dictionary\n",
    "%store -r user_name\n",
    "%store -r user_age\n",
    "%store -r user_birthday\n",
    "%store -r AgeofProphecy\n",
    "%store -r user_country\n",
    "%store -r user_email\n",
    "%store -r user_job\n",
    "%store -r user_ideal_job\n",
    "%store -r user_ideal_salary\n",
    "%store -r user_pyth_commit\n",
    "%store -r user_aimassist\n",
    "%store -r user_stamina\n",
    "%store -r user_languages\n",
    "%store -r user_interests\n",
    "%store -r user_LuckyNumberGenerator\n",
    "%store -r user_NewDev\n",
    "%store -r CorrectInfo\n",
    "%store -r FunMode\n",
    "%store -r goal1\n",
    "%store -r goal2\n",
    "%store -r goal3\n",
    "%store -r goal4\n",
    "%store -r goal5\n",
    "%store -r goal6\n",
    "%store -r goal7\n",
    "%store -r let_email\n",
    "%store -r let_name\n",
    "%store -r let_random\n",
    "%store -r let_dev\n",
    "%store -r let_age\n",
    "%store -r let_birthday\n",
    "%store -r let_AgeofProphecy\n",
    "%store -r let_country\n",
    "%store -r let_job"
   ]
  },
  {
   "cell_type": "markdown",
   "id": "5a593e8f-0642-417e-bfbe-cef16503ef71",
   "metadata": {
    "tags": []
   },
   "source": [
    "# Welcome to the module on Python data structures! \n",
    "\n",
    "### In this session, we'll explore three key data structures: **lists, dictionaries, and tuples**. These structures are essential tools for organizing and manipulating data efficiently in Python.\n",
    "\n",
    "\n",
    "**Lists**: A versatile and mutable collection of elements. Lists allow you to store and manipulate sequences of items, making them a fundamental building block in Python programming.\n",
    "\n",
    "**Dictionaries**: An unordered collection of key-value pairs. Dictionaries provide a way to organize and retrieve data based on unique keys, offering efficient data retrieval for various applications.\n",
    "\n",
    "**Tuples**: Similar to lists but immutable. Tuples are particularly useful when you need a fixed set of elements that should not be modified during the program's execution."
   ]
  },
  {
   "cell_type": "markdown",
   "id": "71b6146a-98d3-4d0c-9f83-9b7527379ed2",
   "metadata": {
    "tags": []
   },
   "source": [
    "# Let's Start with **lists**\n",
    "### We went through lists in the Pilot module so you've already got some experience but let's try to apply some more skills now\n",
    "\n",
    "Remember your list of languages from the Pilot? Let's call that using the user_languages **variable** below\n"
   ]
  },
  {
   "cell_type": "code",
   "execution_count": 2,
   "id": "c0bc746e-e2d3-4473-b659-338518a23f67",
   "metadata": {
    "tags": []
   },
   "outputs": [
    {
     "data": {
      "text/plain": [
       "['English', 'Body Language']"
      ]
     },
     "execution_count": 2,
     "metadata": {},
     "output_type": "execute_result"
    }
   ],
   "source": [
    "user_languages"
   ]
  },
  {
   "cell_type": "markdown",
   "id": "3ac07ce8-df1d-474d-bc05-bd40e9397f9d",
   "metadata": {},
   "source": [
    "## Woah, quite the list. \n",
    "\n",
    "### Let's make a new **list** called user_ideal_languages. We can leave it empty for now."
   ]
  },
  {
   "cell_type": "code",
   "execution_count": 3,
   "id": "9d42acf9-a58c-4af2-ae5c-2d87ad72c8eb",
   "metadata": {
    "tags": []
   },
   "outputs": [],
   "source": [
    "user_ideal_languages = []"
   ]
  },
  {
   "cell_type": "markdown",
   "id": "e93c35d6-8de9-4d93-83f2-87cebe77882e",
   "metadata": {},
   "source": [
    "### Now let's add 'Python' to that list since you're learning it right now\n",
    "\n",
    "To add something to a **list**, you tell Python to **append** the **list**"
   ]
  },
  {
   "cell_type": "code",
   "execution_count": 4,
   "id": "ebb9734c-ab44-40de-926b-82505b93baca",
   "metadata": {
    "tags": []
   },
   "outputs": [
    {
     "data": {
      "text/plain": [
       "['Python']"
      ]
     },
     "execution_count": 4,
     "metadata": {},
     "output_type": "execute_result"
    }
   ],
   "source": [
    "user_ideal_languages.append(\"Python\")\n",
    "\n",
    "#Now display your list to see your new addition\n",
    "user_ideal_languages"
   ]
  },
  {
   "cell_type": "markdown",
   "id": "4bc99309-efc5-41b7-aef6-7e4afed3f00b",
   "metadata": {},
   "source": [
    "### In order to add more than one item. Instead of 'append' we use the 'extend' command\n",
    "#### Extend your list of ideal languages by listing some new additions. They could be coding languages or natural languages like ASL, Javascript, C++, Cantonese, Spanish etc."
   ]
  },
  {
   "cell_type": "code",
   "execution_count": 5,
   "id": "48a801e5-8700-415b-9a08-4002c4b35f68",
   "metadata": {
    "tags": []
   },
   "outputs": [
    {
     "data": {
      "text/plain": [
       "['Python', 'language 1', 'language 2', 'language 3']"
      ]
     },
     "execution_count": 5,
     "metadata": {},
     "output_type": "execute_result"
    }
   ],
   "source": [
    "user_ideal_languages.extend([\"language 1\", \"language 2\", \"language 3\"])\n",
    "\n",
    "#Now display your list to see your new addition\n",
    "user_ideal_languages"
   ]
  },
  {
   "cell_type": "markdown",
   "id": "6dbfa193-33d6-4499-a471-15c8be570d16",
   "metadata": {},
   "source": [
    "### Wait! I just realized you already know some Python! Let's get that off your list since you're already learning it. \n",
    "\n",
    "#### You can use the .remove command to delete an item from your list"
   ]
  },
  {
   "cell_type": "code",
   "execution_count": 6,
   "id": "82dac73a-1c50-4f3c-b052-19ccd98b2905",
   "metadata": {
    "tags": []
   },
   "outputs": [
    {
     "data": {
      "text/plain": [
       "['language 1', 'language 2', 'language 3']"
      ]
     },
     "execution_count": 6,
     "metadata": {},
     "output_type": "execute_result"
    }
   ],
   "source": [
    "user_ideal_languages.remove('Python')\n",
    "\n",
    "#Now display your list to make sure it's removed\n",
    "user_ideal_languages"
   ]
  },
  {
   "cell_type": "markdown",
   "id": "73528d49-0fdb-47c3-9cea-91e29fc1ee0e",
   "metadata": {},
   "source": [
    "## Another great list, you're crushing it\n",
    "\n",
    "### Since we have two lists about language now, how about we store them in one place? \n",
    "We can make a **list of lists** which means we can store multiple lists under one **variable** and have it 'list' every **list** when we call the variable. Let's try"
   ]
  },
  {
   "cell_type": "code",
   "execution_count": 7,
   "id": "c1d8e43c-a2f9-47ce-a7a6-e7674243fa19",
   "metadata": {
    "tags": []
   },
   "outputs": [
    {
     "data": {
      "text/plain": [
       "[['English', 'Body Language'], ['language 1', 'language 2', 'language 3']]"
      ]
     },
     "execution_count": 7,
     "metadata": {},
     "output_type": "execute_result"
    }
   ],
   "source": [
    "languagelists = [user_languages, user_ideal_languages]\n",
    "\n",
    "#Now display your list to see your new combo\n",
    "languagelists"
   ]
  },
  {
   "cell_type": "markdown",
   "id": "306b13a6-8e0a-4c64-b052-9ee8e510c17c",
   "metadata": {
    "tags": []
   },
   "source": [
    "# Next let's talk about Dictionaries\n",
    "\n",
    "### You'll remember from the Pilot module that a Dictionary allows Python to pair two pieces of information up and store them together.\n",
    "\n",
    "Let's display your Dictionary from the first module. We saved it under user_data_dictionary"
   ]
  },
  {
   "cell_type": "code",
   "execution_count": 8,
   "id": "ae583fd7-a513-422f-a9e7-3ab60abc9b07",
   "metadata": {
    "scrolled": true,
    "tags": []
   },
   "outputs": [
    {
     "data": {
      "text/plain": [
       "{'Name': 'John Doe',\n",
       " 'Age': 27.0,\n",
       " 'Birthday': datetime.date(1996, 6, 25),\n",
       " 'Age of Prophecy': 29,\n",
       " 'Country': 'Canada',\n",
       " 'Email': 'test@tester.com',\n",
       " 'Occupaion': 'Student',\n",
       " 'Ideal Job': '',\n",
       " 'Ideal Salary': 0,\n",
       " 'Commitment': 'full-time',\n",
       " 'Learning Assistance': 'nudge',\n",
       " 'Stamina Type': 'quitter',\n",
       " 'Languages': ['English', 'Body Language'],\n",
       " 'Interests': [],\n",
       " 'Lucky Number': -1066,\n",
       " 'NewDev Status': True,\n",
       " 'Information Confirmed': 'True',\n",
       " 'Fun Mode': False,\n",
       " 'Goal 1': 'True',\n",
       " 'Goal 2': 'True',\n",
       " 'Goal 3': 'True',\n",
       " 'Goal 4': 'True',\n",
       " 'Goal 5': 'True',\n",
       " 'Goal 6': 'True',\n",
       " 'Goal 7': 'True',\n",
       " 'Email Permissions': True,\n",
       " 'Name Permissions': True,\n",
       " 'Lucky Number Permissions': True,\n",
       " 'New Dev Permissions': True,\n",
       " 'Age Permissions': True,\n",
       " 'Birthday Permissions': True,\n",
       " 'AgeofProphecy Permissions': True,\n",
       " 'Country Permissions': True,\n",
       " 'Occupation Permissions': True}"
      ]
     },
     "execution_count": 8,
     "metadata": {},
     "output_type": "execute_result"
    }
   ],
   "source": [
    "user_data_dictionary"
   ]
  },
  {
   "cell_type": "markdown",
   "id": "186019c5-6fde-46b6-be62-9851a91d1cfe",
   "metadata": {},
   "source": [
    "### Now that's a good-looking **Dictionary**\n",
    "\n",
    "Let's make another?\n",
    "\n",
    "Let's make a Dictionary using your *ideal languages* from the *list exercises*. We're gonna grab each item from the **list** and then give it a score out of 10 on how much you want to learn it. \n",
    "\n",
    "To grab a specific **value** from a **list**, you just need to tell Python what position in the **list** the **value** is. Remember that Python starts counting from 0 so if you'd like to get the first **value** from a **list**, you'd use [0] to specify it and the second **value** would be [1]"
   ]
  },
  {
   "cell_type": "code",
   "execution_count": 9,
   "id": "32cd46c0-00f2-40ef-8678-05593613ea2d",
   "metadata": {
    "tags": []
   },
   "outputs": [
    {
     "name": "stdout",
     "output_type": "stream",
     "text": [
      "{'language 1': 10, 'language 2': 10, 'language 3': 8}\n"
     ]
    }
   ],
   "source": [
    "user_ideal_languages_dict = {\n",
    "    user_ideal_languages[0] : 10,\n",
    "    user_ideal_languages[1] : 10,\n",
    "    user_ideal_languages[2] : 8,\n",
    "}\n",
    "\n",
    "\n",
    "print(user_ideal_languages_dict)"
   ]
  },
  {
   "cell_type": "markdown",
   "id": "6d434142-7a5c-4d5d-ad61-74f1ea4db555",
   "metadata": {
    "tags": []
   },
   "source": [
    "### Next, how about we store all your dictionaries in a brand new dictionary?\n",
    "\n",
    "To make a **dictionary of dictionaries** we're going to place the Name/ Label for each **dictionary** on one axis and the **variable** of that **dictionary** on the other"
   ]
  },
  {
   "cell_type": "code",
   "execution_count": 10,
   "id": "c3d5bc1e-4252-47ad-a4a8-1684f7422410",
   "metadata": {
    "tags": []
   },
   "outputs": [
    {
     "name": "stdout",
     "output_type": "stream",
     "text": [
      "{'User Data': {'Name': 'John Doe', 'Age': 27.0, 'Birthday': datetime.date(1996, 6, 25), 'Age of Prophecy': 29, 'Country': 'Canada', 'Email': 'test@tester.com', 'Occupaion': 'Student', 'Ideal Job': '', 'Ideal Salary': 0, 'Commitment': 'full-time', 'Learning Assistance': 'nudge', 'Stamina Type': 'quitter', 'Languages': ['English', 'Body Language'], 'Interests': [], 'Lucky Number': -1066, 'NewDev Status': True, 'Information Confirmed': 'True', 'Fun Mode': False, 'Goal 1': 'True', 'Goal 2': 'True', 'Goal 3': 'True', 'Goal 4': 'True', 'Goal 5': 'True', 'Goal 6': 'True', 'Goal 7': 'True', 'Email Permissions': True, 'Name Permissions': True, 'Lucky Number Permissions': True, 'New Dev Permissions': True, 'Age Permissions': True, 'Birthday Permissions': True, 'AgeofProphecy Permissions': True, 'Country Permissions': True, 'Occupation Permissions': True}, 'User Ideal Language Scores': {'language 1': 10, 'language 2': 10, 'language 3': 8}}\n"
     ]
    }
   ],
   "source": [
    "user_dict = {'User Data' : user_data_dictionary,'User Ideal Language Scores': user_ideal_languages_dict}\n",
    "print(user_dict)"
   ]
  },
  {
   "cell_type": "markdown",
   "id": "e9e163f6-f707-42f6-8273-57edb671016f",
   "metadata": {},
   "source": [
    "### It gets a little tough for humans to decipher all those values, but because of your superior coding skills, Python knows exactly what's going on"
   ]
  },
  {
   "cell_type": "markdown",
   "id": "e2c34217-4a58-4215-a9f4-c7a0bf36941b",
   "metadata": {
    "tags": []
   },
   "source": [
    "# Next let's talk about **Tuples**\n",
    "\n",
    "### Tuples are immutable collections of values meaning they can't be changed or reordered which can be very useful when the information needs to be saved in a specific format\n",
    "\n",
    "#### We had to create a little tuple in the Pilot Module when we converted our Dictionary to a DataFrame but we didn't do much work with it. Let's fix that\n",
    "\n",
    "Let's create a **Tuple** that stores info on your favorite apps! Let's store the *name* of the app, the *potency* of use (estimated hours/day), the *device* you use the app on most, the *purchase cost* for the app, the monthly *subscription price* for the app, and a *comment* on why you like it. \n",
    "\n",
    "We create **Tuples** by putting the values in Parentheses and separating them by commas but we have to make sure we're always placing our values in the right order (*name, potency, device, subscription price, comment*)\n"
   ]
  },
  {
   "cell_type": "code",
   "execution_count": 11,
   "id": "0cbe41a3-9292-4307-a4b2-221d3184199a",
   "metadata": {
    "tags": []
   },
   "outputs": [],
   "source": [
    "# Tuple Structure: name, potency, device, subscription price, comment\n",
    "\n",
    "user_fav_app1 = ('EZLearn', 1, 'laptop', 0, 0, 'Great way to learn Python. Learning about Tuples rn')\n",
    "user_fav_app2 = ('Diogenes', 3, 'laptop', 0, 0, 'AI Fact-Checking all my articles and sources for work')\n",
    "user_fav_app3 = ('VillageViewr', .5, 'smartphone', 0, 35, 'Staying connected to my family')\n",
    "\n",
    "\n",
    "#Store all your tuples in a list of tuples\n",
    "user_favapps = [user_fav_app1, user_fav_app2, user_fav_app3]"
   ]
  },
  {
   "cell_type": "markdown",
   "id": "2747aa9d-ce9f-4489-b4f5-a395141cc92a",
   "metadata": {
    "tags": []
   },
   "source": [
    "### Great job! Now let's take one of those tuples and use it to fill out a 'print' command\n",
    "\n",
    "In order to use the data from the **tuples** and print them we'll have to tell Python to save each value from the tuples as it's own variable. To do this, you just need to list a variable for each spot in the tuple (you don't need to put the variables in brackets just seperate them with commas)"
   ]
  },
  {
   "cell_type": "code",
   "execution_count": 12,
   "id": "2382bca2-b805-457d-869b-df784e7e6733",
   "metadata": {
    "tags": []
   },
   "outputs": [
    {
     "name": "stdout",
     "output_type": "stream",
     "text": [
      "App Name: EZLearn, Hours Per Day: 1, Typical Device: laptop, Purchase Cost: 0, Subscription Price: 0, User Comment: Great way to learn Python. Learning about Tuples rn\n"
     ]
    }
   ],
   "source": [
    "app1name, app1pot, app1dev, app1cost, app1sub, app1com = user_favapps[0]\n",
    "\n",
    "print(f\"App Name: {app1name}, Hours Per Day: {app1pot}, Typical Device: {app1dev}, Purchase Cost: {app1cost}, Subscription Price: {app1sub}, User Comment: {app1com}\")"
   ]
  },
  {
   "cell_type": "markdown",
   "id": "19bf178c-c48c-42c7-9af9-54847e88b1c3",
   "metadata": {
    "tags": []
   },
   "source": [
    "#### Repeat the process for the remaining Tuples below"
   ]
  },
  {
   "cell_type": "code",
   "execution_count": 13,
   "id": "88e93b5b-5754-4359-aa30-5290caabea1d",
   "metadata": {
    "tags": []
   },
   "outputs": [
    {
     "name": "stdout",
     "output_type": "stream",
     "text": [
      "App Name: Diogenes, Hours Per Day: 3, Typical Device: laptop, Purchase Cost: 0, Subscription Price: 0, User Comment: AI Fact-Checking all my articles and sources for work\n",
      "App Name: VillageViewr, Hours Per Day: 0.5, Typical Device: smartphone, Purchase Cost: 0, Subscription Price: 35, User Comment: Staying connected to my family\n"
     ]
    }
   ],
   "source": [
    "app2name, app2pot, app2dev, app2cost, app2sub, app2com = user_favapps[1]\n",
    "\n",
    "print(f\"App Name: {app2name}, Hours Per Day: {app2pot}, Typical Device: {app2dev}, Purchase Cost: {app2cost}, Subscription Price: {app2sub}, User Comment: {app2com}\")\n",
    "\n",
    "\n",
    "app3name, app3pot, app3dev, app3cost, app3sub, app3com = user_favapps[2]\n",
    "\n",
    "print(f\"App Name: {app3name}, Hours Per Day: {app3pot}, Typical Device: {app3dev}, Purchase Cost: {app3cost}, Subscription Price: {app3sub}, User Comment: {app3com}\")"
   ]
  },
  {
   "cell_type": "markdown",
   "id": "b9db8c82-a086-4860-a2b7-31ea6790bc4c",
   "metadata": {
    "tags": []
   },
   "source": [
    "# Next we're going to venture into the world of nested data structures\n",
    "\n",
    "### When we describe a data structure as nested it just means it sits inside of another data structure. Nested data structures include **lists of lists**, **lists of tuples** and **dictionaries of dictionaries** which we've made in this Module but it also includes **lists of dictionaries, dictionaries of lists, dictionaries of tuples and more!**"
   ]
  },
  {
   "cell_type": "markdown",
   "id": "098e6269-705c-4512-89b0-62273e03eaa3",
   "metadata": {},
   "source": [
    "### We saved your **list of lists** as *languagelists* and we saved your **dictionary of dictionaries** as *user_dict*. Call those variables below to see that data"
   ]
  },
  {
   "cell_type": "code",
   "execution_count": 14,
   "id": "1305b98c-3d64-4187-9c7b-c43667f9e119",
   "metadata": {
    "tags": []
   },
   "outputs": [
    {
     "data": {
      "text/plain": [
       "[['English', 'Body Language'], ['language 1', 'language 2', 'language 3']]"
      ]
     },
     "execution_count": 14,
     "metadata": {},
     "output_type": "execute_result"
    }
   ],
   "source": [
    "#Call your 'languagelists' variable which includes your list of natural languages as well as your list of coding languages\n",
    "\n",
    "languagelists"
   ]
  },
  {
   "cell_type": "code",
   "execution_count": 15,
   "id": "3bea5821-945b-41cc-b1b4-cffc86e49f1a",
   "metadata": {},
   "outputs": [
    {
     "data": {
      "text/plain": [
       "{'User Data': {'Name': 'John Doe',\n",
       "  'Age': 27.0,\n",
       "  'Birthday': datetime.date(1996, 6, 25),\n",
       "  'Age of Prophecy': 29,\n",
       "  'Country': 'Canada',\n",
       "  'Email': 'test@tester.com',\n",
       "  'Occupaion': 'Student',\n",
       "  'Ideal Job': '',\n",
       "  'Ideal Salary': 0,\n",
       "  'Commitment': 'full-time',\n",
       "  'Learning Assistance': 'nudge',\n",
       "  'Stamina Type': 'quitter',\n",
       "  'Languages': ['English', 'Body Language'],\n",
       "  'Interests': [],\n",
       "  'Lucky Number': -1066,\n",
       "  'NewDev Status': True,\n",
       "  'Information Confirmed': 'True',\n",
       "  'Fun Mode': False,\n",
       "  'Goal 1': 'True',\n",
       "  'Goal 2': 'True',\n",
       "  'Goal 3': 'True',\n",
       "  'Goal 4': 'True',\n",
       "  'Goal 5': 'True',\n",
       "  'Goal 6': 'True',\n",
       "  'Goal 7': 'True',\n",
       "  'Email Permissions': True,\n",
       "  'Name Permissions': True,\n",
       "  'Lucky Number Permissions': True,\n",
       "  'New Dev Permissions': True,\n",
       "  'Age Permissions': True,\n",
       "  'Birthday Permissions': True,\n",
       "  'AgeofProphecy Permissions': True,\n",
       "  'Country Permissions': True,\n",
       "  'Occupation Permissions': True},\n",
       " 'User Ideal Language Scores': {'language 1': 10,\n",
       "  'language 2': 10,\n",
       "  'language 3': 8}}"
      ]
     },
     "execution_count": 15,
     "metadata": {},
     "output_type": "execute_result"
    }
   ],
   "source": [
    "#Call your 'user_dict' variable which includes your dictionary of user data and your ideal language scores\n",
    "user_dict"
   ]
  },
  {
   "cell_type": "markdown",
   "id": "19b1c376-56a7-4fa1-b1e4-7be175ef6fbd",
   "metadata": {},
   "source": [
    "## Now let's try some more **nested data structures!**\n",
    "### Below we'll make a **dictionary** that can hold multiple **lists** and the names of those **lists.**\n",
    "\n",
    "### What if we make some **lists** to represent what you want to eat this week? We can name the **lists** for each day of the week and save that information in a **dictionary**"
   ]
  },
  {
   "cell_type": "code",
   "execution_count": 16,
   "id": "d8e8a628-0b77-4047-b989-be321428c8ac",
   "metadata": {},
   "outputs": [],
   "source": [
    "#Fill each list below with what you'd like to eat on the corresponding day\n",
    "sunday_menu = [\"water\", \"ice cream\"]\n",
    "monday_menu = [\"water\",]\n",
    "tuesday_menu = [\"water\",]\n",
    "wednesday_menu = [\"water\",] \n",
    "thursday_menu = [\"water\",]\n",
    "friday_menu = [\"water\",]\n",
    "saturday_menu = [\"water\", \"charcuterie\"]"
   ]
  },
  {
   "cell_type": "markdown",
   "id": "9d310eab-6f75-4c62-8ecc-ee987e923428",
   "metadata": {},
   "source": [
    "### Great! Now let's store those **lists** in one **dictionary** and give a corresponding label for each day in the week"
   ]
  },
  {
   "cell_type": "code",
   "execution_count": 17,
   "id": "beda98ac-2393-4499-b4c7-b0d32bc0a6ad",
   "metadata": {},
   "outputs": [
    {
     "data": {
      "text/plain": [
       "{'Sunday': ['water', 'ice cream'],\n",
       " 'Monday': ['water'],\n",
       " 'Tuesday': ['water'],\n",
       " 'Wednesday': ['water'],\n",
       " 'Thursday': ['water'],\n",
       " 'Friday': ['water'],\n",
       " 'Saturday': ['water', 'charcuterie']}"
      ]
     },
     "execution_count": 17,
     "metadata": {},
     "output_type": "execute_result"
    }
   ],
   "source": [
    "weekly_menu = {\n",
    "    \"Sunday\": sunday_menu,\n",
    "    \"Monday\": monday_menu,\n",
    "    \"Tuesday\": tuesday_menu,\n",
    "    \"Wednesday\": wednesday_menu,\n",
    "    \"Thursday\": thursday_menu,\n",
    "    \"Friday\": friday_menu,\n",
    "    \"Saturday\": saturday_menu,\n",
    "}\n",
    "\n",
    "#Print your new Dictionary to check it out\n",
    "weekly_menu"
   ]
  },
  {
   "cell_type": "markdown",
   "id": "4e9bfa56-6fe5-4868-a652-c7a38440bf5f",
   "metadata": {},
   "source": [
    "### That's a good looking **dictionary**. You're making this look easy! I guess it's time to turn up the heat!\n",
    "### So far we've created **nested dictionaries** by creating variables and then placing those variables inside a **dictionary**. This is an organized way of making **nested data structures** but may not always be the most efficient. Below, we'll make a **nested dictionary** by putting all the information in one python script"
   ]
  },
  {
   "cell_type": "markdown",
   "id": "7da2e6cc-d46e-44d4-90d2-bf141a942685",
   "metadata": {},
   "source": [
    "### Let's plan a trip together! \n",
    "#### Create a **dictionary** for each country we should go to, that contains multiple **dictionaries** for each city we should visit and a **list** of things we should eat while we're there"
   ]
  },
  {
   "cell_type": "code",
   "execution_count": 18,
   "id": "0acefb24-1a86-4f9a-9590-3b1c8457c9e7",
   "metadata": {},
   "outputs": [
    {
     "data": {
      "text/plain": [
       "{'Italy': {'Rome': ['Pizza', 'Gelato'], 'Venice': ['Risotto', 'Tiramisu']},\n",
       " 'Japan': {'Tokyo': ['Sushi', 'Ramen', 'Buns'],\n",
       "  'Kyoto': ['Kaiseki', 'Matcha Ice Cream', 'Onigiri']},\n",
       " 'Mexico': {'Mexico City': ['Tacos', 'Churros', 'Tamales'],\n",
       "  'Cancun': ['Ceviche', 'Atole', 'Burritos', 'Margaritas'],\n",
       "  'Tijuana': ['Pozole', 'Quesadillas', 'Tapas', 'Enchiladas']},\n",
       " 'Nigeria': {'Lagos': ['Suya', 'Chin-Chin', 'Agege Bread'],\n",
       "  'Abuja': ['Kilichi', 'Palm Wine']}}"
      ]
     },
     "execution_count": 18,
     "metadata": {},
     "output_type": "execute_result"
    }
   ],
   "source": [
    "bestie_trip = {\n",
    "    \"Italy\": {\"Rome\": [\"Pizza\", \"Gelato\"], \"Venice\": [\"Risotto\", \"Tiramisu\"]},\n",
    "    \"Japan\": {\"Tokyo\": [\"Sushi\", \"Ramen\", 'Buns'], \"Kyoto\": [\"Kaiseki\", \"Matcha Ice Cream\", \"Onigiri\"]},\n",
    "    \"Mexico\": {\"Mexico City\": [\"Tacos\", \"Churros\", \"Tamales\"], \"Cancun\": [\"Ceviche\",\"Atole\", \"Burritos\", \"Margaritas\"], \"Tijuana\": [\"Pozole\", \"Quesadillas\", \"Tapas\", \"Enchiladas\"]},\n",
    "    \"Nigeria\": {\"Lagos\": [\"Suya\", \"Chin-Chin\", \"Agege Bread\"], \"Abuja\": [\"Kilichi\", \"Palm Wine\"]}\n",
    "}\n",
    "\n",
    "#Print your new Dictionary to check it out\n",
    "bestie_trip"
   ]
  },
  {
   "cell_type": "markdown",
   "id": "4601650f-18a4-4fe7-b671-21912a41feef",
   "metadata": {},
   "source": [
    "### Now that we have our bestie_trip dictionary filled with exciting destinations and delicious foods, let's learn how to find information within it. \n",
    "\n",
    "#### Finding Foods By Country\n",
    "\n",
    "If you want to see all the cities and their foods for a specific country, you can access them using the country name as a **key**. A **key** is basically how information gets stored in **Dictionaries** and **DataFrames** and we can use square brackets [ ] to denote they key we're looking for. We usually use square brackets [  ] to make a list but once we put them beside a **dictionary** or **DataFrame** they become a search tool that allows us to pull out certain information. "
   ]
  },
  {
   "cell_type": "code",
   "execution_count": 19,
   "id": "aa7eae0b-f0e9-48e5-8538-28a02111a98e",
   "metadata": {},
   "outputs": [
    {
     "data": {
      "text/plain": [
       "{'Mexico City': ['Tacos', 'Churros', 'Tamales'],\n",
       " 'Cancun': ['Ceviche', 'Atole', 'Burritos', 'Margaritas'],\n",
       " 'Tijuana': ['Pozole', 'Quesadillas', 'Tapas', 'Enchiladas']}"
      ]
     },
     "execution_count": 19,
     "metadata": {},
     "output_type": "execute_result"
    }
   ],
   "source": [
    "# Let's get the information for our trip to Mexico by calling the \"Mexico\" key from bestie_trip\n",
    "bestie_trip[\"Mexico\"]"
   ]
  },
  {
   "cell_type": "markdown",
   "id": "abefd204-86fe-41aa-861d-bb1edcbb99d3",
   "metadata": {},
   "source": [
    "#### Finding Foods By City\n",
    "Now let's get info for one of the cities in Japan. In order to do this we need to tell Python to find the city **key** inside of the country **key** inside of the dictionary"
   ]
  },
  {
   "cell_type": "code",
   "execution_count": 20,
   "id": "954e83fc-633f-47b9-9460-6784c573192f",
   "metadata": {},
   "outputs": [
    {
     "data": {
      "text/plain": [
       "['Suya', 'Chin-Chin', 'Agege Bread']"
      ]
     },
     "execution_count": 20,
     "metadata": {},
     "output_type": "execute_result"
    }
   ],
   "source": [
    "#let's get the information for our trip to Lagos by passing the \"Nigeria\" key and then the \"Lagos\" key\n",
    "bestie_trip[\"Nigeria\"][\"Lagos\"]"
   ]
  },
  {
   "cell_type": "markdown",
   "id": "d1f41304-0f8d-4b3c-ac30-fb985da3e645",
   "metadata": {},
   "source": [
    "### Let's do some more practice making a **nested list**(**list of lists**)\n",
    "This time, let's make a list of everything we'll be eating in the trip by combining all the food from the different locations"
   ]
  },
  {
   "cell_type": "code",
   "execution_count": 21,
   "id": "0b697350-5d41-4bb4-bb5b-cd95437aa706",
   "metadata": {},
   "outputs": [
    {
     "data": {
      "text/plain": [
       "[['Suya', 'Chin-Chin', 'Agege Bread'],\n",
       " ['Kilichi', 'Palm Wine'],\n",
       " ['Ceviche', 'Atole', 'Burritos', 'Margaritas'],\n",
       " ['Pozole', 'Quesadillas', 'Tapas', 'Enchiladas'],\n",
       " ['Tacos', 'Churros', 'Tamales'],\n",
       " ['Kaiseki', 'Matcha Ice Cream', 'Onigiri'],\n",
       " ['Sushi', 'Ramen', 'Buns'],\n",
       " ['Pizza', 'Gelato'],\n",
       " ['Risotto', 'Tiramisu']]"
      ]
     },
     "execution_count": 21,
     "metadata": {},
     "output_type": "execute_result"
    }
   ],
   "source": [
    "allfood = [bestie_trip[\"Nigeria\"][\"Lagos\"], bestie_trip[\"Nigeria\"][\"Abuja\"], bestie_trip[\"Mexico\"][\"Cancun\"], bestie_trip[\"Mexico\"][\"Tijuana\"], bestie_trip[\"Mexico\"][\"Mexico City\"], bestie_trip[\"Japan\"][\"Kyoto\"], bestie_trip[\"Japan\"][\"Tokyo\"],bestie_trip[\"Italy\"][\"Rome\"], bestie_trip[\"Italy\"][\"Venice\"]]\n",
    "\n",
    "allfood"
   ]
  },
  {
   "cell_type": "markdown",
   "id": "8b3b78da-cfb5-45ad-a785-a940fad3ca93",
   "metadata": {},
   "source": [
    "## Great job! This list is am-\n",
    "\n",
    "## Wait, does that say Matcha Ice Cream? I totally forgot I'm allergic to Matcha. Could we just update that to say Ice Cream and then we can pick flavors when we get there?"
   ]
  },
  {
   "cell_type": "code",
   "execution_count": 24,
   "id": "332cf72d-0336-467b-afe6-7694d41a5ff9",
   "metadata": {},
   "outputs": [],
   "source": [
    "#Update the Kyoto menu in bestie_trip to change Matcha Ice Cream to Ice Cream\n",
    "\n",
    "#Give Python the keys for Kyoto and ask it to find the index of 'Matcha Ice Cream'. #The .index method tells Python to count each item in the list starting from the first one at position 0. Then when it finds our specified item it records what number it had counted to. In this instance Matcha Ice Cream is the second item in that list so it is at position 1\n",
    "matcha = bestie_trip[\"Japan\"][\"Kyoto\"].index(\"Matcha Ice Cream\") #We set it as a variable to simplify the next step\n",
    "\n",
    "#When Python finds the position of \"Matcha Ice Cream\" we want to replace it with \"Ice Cream\"\n",
    "#We tell Python to set the item in the 'matcha' position (1) of the \"Kyoto\" list in the \"Japan\" Dictionary of bestie_trip as \"Ice Cream\n",
    "bestie_trip[\"Japan\"][\"Kyoto\"][matcha] = \"Ice Cream\"\n",
    "#If we wanted to do this in one step instead of two we would have to write it like this bestie_trip[\"Japan\"][\"Kyoto\"][bestie_trip[\"Japan\"][\"Kyoto\"].index(\"Matcha Ice Cream\")] = \"Ice Cream\""
   ]
  },
  {
   "cell_type": "markdown",
   "id": "8a067550-a7af-4f3f-835b-38d31a477904",
   "metadata": {},
   "source": [
    "# Great job! You're a pro! \n",
    "\n",
    "### Now I'm going to save all your variables so you can move to the next module"
   ]
  },
  {
   "cell_type": "code",
   "execution_count": 25,
   "id": "ed98fba7-5542-48fd-97fb-f4e073a1e148",
   "metadata": {},
   "outputs": [
    {
     "name": "stdout",
     "output_type": "stream",
     "text": [
      "Stored 'weekly_menu' (dict)\n",
      "Stored 'bestie_trip' (dict)\n",
      "Stored 'allfood' (list)\n"
     ]
    }
   ],
   "source": [
    "#-------------------------------------------------------------------------------------------------------------------------------- SAVING VARIABLES ---------------------------------------------------------------------------------------------------------\n",
    "%store weekly_menu\n",
    "%store bestie_trip\n",
    "%store allfood"
   ]
  }
 ],
 "metadata": {
  "kernelspec": {
   "display_name": "Python 3 (ipykernel)",
   "language": "python",
   "name": "python3"
  },
  "language_info": {
   "codemirror_mode": {
    "name": "ipython",
    "version": 3
   },
   "file_extension": ".py",
   "mimetype": "text/x-python",
   "name": "python",
   "nbconvert_exporter": "python",
   "pygments_lexer": "ipython3",
   "version": "3.11.5"
  }
 },
 "nbformat": 4,
 "nbformat_minor": 5
}
